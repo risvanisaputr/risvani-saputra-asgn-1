{
  "nbformat": 4,
  "nbformat_minor": 0,
  "metadata": {
    "colab": {
      "name": "PYIM_Assgn_1_PYIM009ONL009_RISVANI.ipynb",
      "provenance": [],
      "collapsed_sections": []
    },
    "kernelspec": {
      "name": "python3",
      "display_name": "Python 3"
    },
    "language_info": {
      "name": "python"
    }
  },
  "cells": [
    {
      "cell_type": "code",
      "metadata": {
        "id": "fqzuIPY4QaSM",
        "colab": {
          "base_uri": "https://localhost:8080/",
          "height": 35
        },
        "outputId": "ed4d6565-94cf-4010-a4eb-c85a24b3c0bd"
      },
      "source": [
        "'/content/drive/My Drive/dataset/archive.zip'"
      ],
      "execution_count": 33,
      "outputs": [
        {
          "output_type": "execute_result",
          "data": {
            "application/vnd.google.colaboratory.intrinsic+json": {
              "type": "string"
            },
            "text/plain": [
              "'/content/drive/My Drive/dataset/archive.zip'"
            ]
          },
          "metadata": {},
          "execution_count": 33
        }
      ]
    },
    {
      "cell_type": "code",
      "metadata": {
        "colab": {
          "base_uri": "https://localhost:8080/"
        },
        "id": "1XNF0nwfsv8I",
        "outputId": "437237a1-276f-4917-abbb-73ba915e9248"
      },
      "source": [
        "from google.colab import drive\n",
        "drive.mount('/content/drive/')"
      ],
      "execution_count": 47,
      "outputs": [
        {
          "output_type": "stream",
          "name": "stdout",
          "text": [
            "Drive already mounted at /content/drive/; to attempt to forcibly remount, call drive.mount(\"/content/drive/\", force_remount=True).\n"
          ]
        }
      ]
    },
    {
      "cell_type": "code",
      "metadata": {
        "id": "mjqW2xgZ7RAw",
        "colab": {
          "base_uri": "https://localhost:8080/"
        },
        "outputId": "5b944f51-d583-4c68-aa27-456ce948fa33"
      },
      "source": [
        "cp '/content/drive/My Drive/dataset/archive.zip' './'"
      ],
      "execution_count": 48,
      "outputs": [
        {
          "output_type": "stream",
          "name": "stdout",
          "text": [
            "cp: cannot stat '/content/drive/My Drive/dataset/archive.zip': No such file or directory\n"
          ]
        }
      ]
    },
    {
      "cell_type": "code",
      "metadata": {
        "id": "f3Pjyj_t7Z4u",
        "colab": {
          "base_uri": "https://localhost:8080/"
        },
        "outputId": "8ed87153-7c2a-448e-826b-8e94a5135e0f"
      },
      "source": [
        "!unzip '/content/archive.zip'"
      ],
      "execution_count": 29,
      "outputs": [
        {
          "output_type": "stream",
          "name": "stdout",
          "text": [
            "Archive:  /content/archive.zip\n",
            "replace student-mat.csv? [y]es, [n]o, [A]ll, [N]one, [r]ename: y\n",
            "  inflating: student-mat.csv         \n",
            "replace student-merge.R? [y]es, [n]o, [A]ll, [N]one, [r]ename: y\n",
            "  inflating: student-merge.R         \n",
            "replace student-por.csv? [y]es, [n]o, [A]ll, [N]one, [r]ename: y\n",
            "  inflating: student-por.csv         \n"
          ]
        }
      ]
    },
    {
      "cell_type": "code",
      "metadata": {
        "id": "AGvtYlXB78Kx"
      },
      "source": [
        "import pandas as pd\n",
        "import numpy as np\n",
        "import seaborn as sns #visualisation\n",
        "import matplotlib.pyplot as plt"
      ],
      "execution_count": 5,
      "outputs": []
    },
    {
      "cell_type": "code",
      "metadata": {
        "id": "DcXSp9F_-SCG"
      },
      "source": [
        "df=pd.read_csv('/content/student-mat.csv')\n",
        "df=pd.read_csv('/content/student-por.csv')"
      ],
      "execution_count": 6,
      "outputs": []
    },
    {
      "cell_type": "code",
      "metadata": {
        "id": "hx3mzgjw8GoF",
        "colab": {
          "base_uri": "https://localhost:8080/"
        },
        "outputId": "3b776b72-93c8-48ec-bc2a-62c1da3a3aac"
      },
      "source": [
        "df.shape"
      ],
      "execution_count": 7,
      "outputs": [
        {
          "output_type": "execute_result",
          "data": {
            "text/plain": [
              "(649, 33)"
            ]
          },
          "metadata": {},
          "execution_count": 7
        }
      ]
    },
    {
      "cell_type": "code",
      "metadata": {
        "id": "4ILBZjPN-5GA",
        "colab": {
          "base_uri": "https://localhost:8080/"
        },
        "outputId": "dcfd297b-7055-4781-8415-6cd3ba6d6057"
      },
      "source": [
        "df.dtypes "
      ],
      "execution_count": 8,
      "outputs": [
        {
          "output_type": "execute_result",
          "data": {
            "text/plain": [
              "school        object\n",
              "sex           object\n",
              "age            int64\n",
              "address       object\n",
              "famsize       object\n",
              "Pstatus       object\n",
              "Medu           int64\n",
              "Fedu           int64\n",
              "Mjob          object\n",
              "Fjob          object\n",
              "reason        object\n",
              "guardian      object\n",
              "traveltime     int64\n",
              "studytime      int64\n",
              "failures       int64\n",
              "schoolsup     object\n",
              "famsup        object\n",
              "paid          object\n",
              "activities    object\n",
              "nursery       object\n",
              "higher        object\n",
              "internet      object\n",
              "romantic      object\n",
              "famrel         int64\n",
              "freetime       int64\n",
              "goout          int64\n",
              "Dalc           int64\n",
              "Walc           int64\n",
              "health         int64\n",
              "absences       int64\n",
              "G1             int64\n",
              "G2             int64\n",
              "G3             int64\n",
              "dtype: object"
            ]
          },
          "metadata": {},
          "execution_count": 8
        }
      ]
    },
    {
      "cell_type": "code",
      "metadata": {
        "id": "5MWOEyxl_Bs2",
        "colab": {
          "base_uri": "https://localhost:8080/",
          "height": 226
        },
        "outputId": "b61be00b-6c69-47d9-f10e-8c35f5456847"
      },
      "source": [
        "# Dropping irrelevant columns\n",
        "df = df.drop(columns =['school','address','famsize','Pstatus','Medu','Fedu','Mjob','Fjob','reason','guardian','traveltime','failures','nursery','higher','internet'])\n",
        "df.shape \n",
        "df.head(5)"
      ],
      "execution_count": 9,
      "outputs": [
        {
          "output_type": "execute_result",
          "data": {
            "text/html": [
              "<div>\n",
              "<style scoped>\n",
              "    .dataframe tbody tr th:only-of-type {\n",
              "        vertical-align: middle;\n",
              "    }\n",
              "\n",
              "    .dataframe tbody tr th {\n",
              "        vertical-align: top;\n",
              "    }\n",
              "\n",
              "    .dataframe thead th {\n",
              "        text-align: right;\n",
              "    }\n",
              "</style>\n",
              "<table border=\"1\" class=\"dataframe\">\n",
              "  <thead>\n",
              "    <tr style=\"text-align: right;\">\n",
              "      <th></th>\n",
              "      <th>sex</th>\n",
              "      <th>age</th>\n",
              "      <th>studytime</th>\n",
              "      <th>schoolsup</th>\n",
              "      <th>famsup</th>\n",
              "      <th>paid</th>\n",
              "      <th>activities</th>\n",
              "      <th>romantic</th>\n",
              "      <th>famrel</th>\n",
              "      <th>freetime</th>\n",
              "      <th>goout</th>\n",
              "      <th>Dalc</th>\n",
              "      <th>Walc</th>\n",
              "      <th>health</th>\n",
              "      <th>absences</th>\n",
              "      <th>G1</th>\n",
              "      <th>G2</th>\n",
              "      <th>G3</th>\n",
              "    </tr>\n",
              "  </thead>\n",
              "  <tbody>\n",
              "    <tr>\n",
              "      <th>0</th>\n",
              "      <td>F</td>\n",
              "      <td>18</td>\n",
              "      <td>2</td>\n",
              "      <td>yes</td>\n",
              "      <td>no</td>\n",
              "      <td>no</td>\n",
              "      <td>no</td>\n",
              "      <td>no</td>\n",
              "      <td>4</td>\n",
              "      <td>3</td>\n",
              "      <td>4</td>\n",
              "      <td>1</td>\n",
              "      <td>1</td>\n",
              "      <td>3</td>\n",
              "      <td>4</td>\n",
              "      <td>0</td>\n",
              "      <td>11</td>\n",
              "      <td>11</td>\n",
              "    </tr>\n",
              "    <tr>\n",
              "      <th>1</th>\n",
              "      <td>F</td>\n",
              "      <td>17</td>\n",
              "      <td>2</td>\n",
              "      <td>no</td>\n",
              "      <td>yes</td>\n",
              "      <td>no</td>\n",
              "      <td>no</td>\n",
              "      <td>no</td>\n",
              "      <td>5</td>\n",
              "      <td>3</td>\n",
              "      <td>3</td>\n",
              "      <td>1</td>\n",
              "      <td>1</td>\n",
              "      <td>3</td>\n",
              "      <td>2</td>\n",
              "      <td>9</td>\n",
              "      <td>11</td>\n",
              "      <td>11</td>\n",
              "    </tr>\n",
              "    <tr>\n",
              "      <th>2</th>\n",
              "      <td>F</td>\n",
              "      <td>15</td>\n",
              "      <td>2</td>\n",
              "      <td>yes</td>\n",
              "      <td>no</td>\n",
              "      <td>no</td>\n",
              "      <td>no</td>\n",
              "      <td>no</td>\n",
              "      <td>4</td>\n",
              "      <td>3</td>\n",
              "      <td>2</td>\n",
              "      <td>2</td>\n",
              "      <td>3</td>\n",
              "      <td>3</td>\n",
              "      <td>6</td>\n",
              "      <td>12</td>\n",
              "      <td>13</td>\n",
              "      <td>12</td>\n",
              "    </tr>\n",
              "    <tr>\n",
              "      <th>3</th>\n",
              "      <td>F</td>\n",
              "      <td>15</td>\n",
              "      <td>3</td>\n",
              "      <td>no</td>\n",
              "      <td>yes</td>\n",
              "      <td>no</td>\n",
              "      <td>yes</td>\n",
              "      <td>yes</td>\n",
              "      <td>3</td>\n",
              "      <td>2</td>\n",
              "      <td>2</td>\n",
              "      <td>1</td>\n",
              "      <td>1</td>\n",
              "      <td>5</td>\n",
              "      <td>0</td>\n",
              "      <td>14</td>\n",
              "      <td>14</td>\n",
              "      <td>14</td>\n",
              "    </tr>\n",
              "    <tr>\n",
              "      <th>4</th>\n",
              "      <td>F</td>\n",
              "      <td>16</td>\n",
              "      <td>2</td>\n",
              "      <td>no</td>\n",
              "      <td>yes</td>\n",
              "      <td>no</td>\n",
              "      <td>no</td>\n",
              "      <td>no</td>\n",
              "      <td>4</td>\n",
              "      <td>3</td>\n",
              "      <td>2</td>\n",
              "      <td>1</td>\n",
              "      <td>2</td>\n",
              "      <td>5</td>\n",
              "      <td>0</td>\n",
              "      <td>11</td>\n",
              "      <td>13</td>\n",
              "      <td>13</td>\n",
              "    </tr>\n",
              "  </tbody>\n",
              "</table>\n",
              "</div>"
            ],
            "text/plain": [
              "  sex  age  studytime schoolsup famsup paid  ... Walc health  absences  G1  G2  G3\n",
              "0   F   18          2       yes     no   no  ...    1      3         4   0  11  11\n",
              "1   F   17          2        no    yes   no  ...    1      3         2   9  11  11\n",
              "2   F   15          2       yes     no   no  ...    3      3         6  12  13  12\n",
              "3   F   15          3        no    yes   no  ...    1      5         0  14  14  14\n",
              "4   F   16          2        no    yes   no  ...    2      5         0  11  13  13\n",
              "\n",
              "[5 rows x 18 columns]"
            ]
          },
          "metadata": {},
          "execution_count": 9
        }
      ]
    },
    {
      "cell_type": "code",
      "metadata": {
        "id": "fjh0s6Bs_Hxd",
        "colab": {
          "base_uri": "https://localhost:8080/"
        },
        "outputId": "6d86f8f5-bb26-48a7-863f-bd9262075f42"
      },
      "source": [
        "df.shape"
      ],
      "execution_count": 10,
      "outputs": [
        {
          "output_type": "execute_result",
          "data": {
            "text/plain": [
              "(649, 18)"
            ]
          },
          "metadata": {},
          "execution_count": 10
        }
      ]
    },
    {
      "cell_type": "code",
      "metadata": {
        "id": "XjXJjd3A_PBK",
        "colab": {
          "base_uri": "https://localhost:8080/",
          "height": 320
        },
        "outputId": "5c924f21-e196-4ae8-dc76-225bf479ed78"
      },
      "source": [
        "df.describe()"
      ],
      "execution_count": 11,
      "outputs": [
        {
          "output_type": "execute_result",
          "data": {
            "text/html": [
              "<div>\n",
              "<style scoped>\n",
              "    .dataframe tbody tr th:only-of-type {\n",
              "        vertical-align: middle;\n",
              "    }\n",
              "\n",
              "    .dataframe tbody tr th {\n",
              "        vertical-align: top;\n",
              "    }\n",
              "\n",
              "    .dataframe thead th {\n",
              "        text-align: right;\n",
              "    }\n",
              "</style>\n",
              "<table border=\"1\" class=\"dataframe\">\n",
              "  <thead>\n",
              "    <tr style=\"text-align: right;\">\n",
              "      <th></th>\n",
              "      <th>age</th>\n",
              "      <th>studytime</th>\n",
              "      <th>famrel</th>\n",
              "      <th>freetime</th>\n",
              "      <th>goout</th>\n",
              "      <th>Dalc</th>\n",
              "      <th>Walc</th>\n",
              "      <th>health</th>\n",
              "      <th>absences</th>\n",
              "      <th>G1</th>\n",
              "      <th>G2</th>\n",
              "      <th>G3</th>\n",
              "    </tr>\n",
              "  </thead>\n",
              "  <tbody>\n",
              "    <tr>\n",
              "      <th>count</th>\n",
              "      <td>649.000000</td>\n",
              "      <td>649.000000</td>\n",
              "      <td>649.000000</td>\n",
              "      <td>649.000000</td>\n",
              "      <td>649.000000</td>\n",
              "      <td>649.000000</td>\n",
              "      <td>649.000000</td>\n",
              "      <td>649.000000</td>\n",
              "      <td>649.000000</td>\n",
              "      <td>649.000000</td>\n",
              "      <td>649.000000</td>\n",
              "      <td>649.000000</td>\n",
              "    </tr>\n",
              "    <tr>\n",
              "      <th>mean</th>\n",
              "      <td>16.744222</td>\n",
              "      <td>1.930663</td>\n",
              "      <td>3.930663</td>\n",
              "      <td>3.180277</td>\n",
              "      <td>3.184900</td>\n",
              "      <td>1.502311</td>\n",
              "      <td>2.280431</td>\n",
              "      <td>3.536210</td>\n",
              "      <td>3.659476</td>\n",
              "      <td>11.399076</td>\n",
              "      <td>11.570108</td>\n",
              "      <td>11.906009</td>\n",
              "    </tr>\n",
              "    <tr>\n",
              "      <th>std</th>\n",
              "      <td>1.218138</td>\n",
              "      <td>0.829510</td>\n",
              "      <td>0.955717</td>\n",
              "      <td>1.051093</td>\n",
              "      <td>1.175766</td>\n",
              "      <td>0.924834</td>\n",
              "      <td>1.284380</td>\n",
              "      <td>1.446259</td>\n",
              "      <td>4.640759</td>\n",
              "      <td>2.745265</td>\n",
              "      <td>2.913639</td>\n",
              "      <td>3.230656</td>\n",
              "    </tr>\n",
              "    <tr>\n",
              "      <th>min</th>\n",
              "      <td>15.000000</td>\n",
              "      <td>1.000000</td>\n",
              "      <td>1.000000</td>\n",
              "      <td>1.000000</td>\n",
              "      <td>1.000000</td>\n",
              "      <td>1.000000</td>\n",
              "      <td>1.000000</td>\n",
              "      <td>1.000000</td>\n",
              "      <td>0.000000</td>\n",
              "      <td>0.000000</td>\n",
              "      <td>0.000000</td>\n",
              "      <td>0.000000</td>\n",
              "    </tr>\n",
              "    <tr>\n",
              "      <th>25%</th>\n",
              "      <td>16.000000</td>\n",
              "      <td>1.000000</td>\n",
              "      <td>4.000000</td>\n",
              "      <td>3.000000</td>\n",
              "      <td>2.000000</td>\n",
              "      <td>1.000000</td>\n",
              "      <td>1.000000</td>\n",
              "      <td>2.000000</td>\n",
              "      <td>0.000000</td>\n",
              "      <td>10.000000</td>\n",
              "      <td>10.000000</td>\n",
              "      <td>10.000000</td>\n",
              "    </tr>\n",
              "    <tr>\n",
              "      <th>50%</th>\n",
              "      <td>17.000000</td>\n",
              "      <td>2.000000</td>\n",
              "      <td>4.000000</td>\n",
              "      <td>3.000000</td>\n",
              "      <td>3.000000</td>\n",
              "      <td>1.000000</td>\n",
              "      <td>2.000000</td>\n",
              "      <td>4.000000</td>\n",
              "      <td>2.000000</td>\n",
              "      <td>11.000000</td>\n",
              "      <td>11.000000</td>\n",
              "      <td>12.000000</td>\n",
              "    </tr>\n",
              "    <tr>\n",
              "      <th>75%</th>\n",
              "      <td>18.000000</td>\n",
              "      <td>2.000000</td>\n",
              "      <td>5.000000</td>\n",
              "      <td>4.000000</td>\n",
              "      <td>4.000000</td>\n",
              "      <td>2.000000</td>\n",
              "      <td>3.000000</td>\n",
              "      <td>5.000000</td>\n",
              "      <td>6.000000</td>\n",
              "      <td>13.000000</td>\n",
              "      <td>13.000000</td>\n",
              "      <td>14.000000</td>\n",
              "    </tr>\n",
              "    <tr>\n",
              "      <th>max</th>\n",
              "      <td>22.000000</td>\n",
              "      <td>4.000000</td>\n",
              "      <td>5.000000</td>\n",
              "      <td>5.000000</td>\n",
              "      <td>5.000000</td>\n",
              "      <td>5.000000</td>\n",
              "      <td>5.000000</td>\n",
              "      <td>5.000000</td>\n",
              "      <td>32.000000</td>\n",
              "      <td>19.000000</td>\n",
              "      <td>19.000000</td>\n",
              "      <td>19.000000</td>\n",
              "    </tr>\n",
              "  </tbody>\n",
              "</table>\n",
              "</div>"
            ],
            "text/plain": [
              "              age   studytime      famrel  ...          G1          G2          G3\n",
              "count  649.000000  649.000000  649.000000  ...  649.000000  649.000000  649.000000\n",
              "mean    16.744222    1.930663    3.930663  ...   11.399076   11.570108   11.906009\n",
              "std      1.218138    0.829510    0.955717  ...    2.745265    2.913639    3.230656\n",
              "min     15.000000    1.000000    1.000000  ...    0.000000    0.000000    0.000000\n",
              "25%     16.000000    1.000000    4.000000  ...   10.000000   10.000000   10.000000\n",
              "50%     17.000000    2.000000    4.000000  ...   11.000000   11.000000   12.000000\n",
              "75%     18.000000    2.000000    5.000000  ...   13.000000   13.000000   14.000000\n",
              "max     22.000000    4.000000    5.000000  ...   19.000000   19.000000   19.000000\n",
              "\n",
              "[8 rows x 12 columns]"
            ]
          },
          "metadata": {},
          "execution_count": 11
        }
      ]
    },
    {
      "cell_type": "code",
      "metadata": {
        "id": "HdZptOp9_Rwk",
        "colab": {
          "base_uri": "https://localhost:8080/"
        },
        "outputId": "27db779d-8d2a-4a1c-b218-39dd467a71c1"
      },
      "source": [
        "# cek duplicate\n",
        "duplicate_rows_df = df[df.duplicated()]\n",
        "print(\"Number of duplicate rows:\",duplicate_rows_df.shape)"
      ],
      "execution_count": 12,
      "outputs": [
        {
          "output_type": "stream",
          "name": "stdout",
          "text": [
            "Number of duplicate rows: (0, 18)\n"
          ]
        }
      ]
    },
    {
      "cell_type": "code",
      "metadata": {
        "id": "yzOo8hze_7Uk"
      },
      "source": [
        "#hapus duplicate\n",
        "df=df.drop_duplicates()"
      ],
      "execution_count": 13,
      "outputs": []
    },
    {
      "cell_type": "code",
      "metadata": {
        "id": "BiPl9nMzAAF0",
        "colab": {
          "base_uri": "https://localhost:8080/"
        },
        "outputId": "5c314c8b-e233-4b42-a328-424962abfae9"
      },
      "source": [
        "df.count() "
      ],
      "execution_count": 14,
      "outputs": [
        {
          "output_type": "execute_result",
          "data": {
            "text/plain": [
              "sex           649\n",
              "age           649\n",
              "studytime     649\n",
              "schoolsup     649\n",
              "famsup        649\n",
              "paid          649\n",
              "activities    649\n",
              "romantic      649\n",
              "famrel        649\n",
              "freetime      649\n",
              "goout         649\n",
              "Dalc          649\n",
              "Walc          649\n",
              "health        649\n",
              "absences      649\n",
              "G1            649\n",
              "G2            649\n",
              "G3            649\n",
              "dtype: int64"
            ]
          },
          "metadata": {},
          "execution_count": 14
        }
      ]
    },
    {
      "cell_type": "code",
      "metadata": {
        "id": "pMCC7eUkAHzr",
        "colab": {
          "base_uri": "https://localhost:8080/"
        },
        "outputId": "41b913c7-4388-4503-a207-0d0e5a560a3e"
      },
      "source": [
        "#Finding null values\n",
        "print(df.isnull().sum())"
      ],
      "execution_count": 15,
      "outputs": [
        {
          "output_type": "stream",
          "name": "stdout",
          "text": [
            "sex           0\n",
            "age           0\n",
            "studytime     0\n",
            "schoolsup     0\n",
            "famsup        0\n",
            "paid          0\n",
            "activities    0\n",
            "romantic      0\n",
            "famrel        0\n",
            "freetime      0\n",
            "goout         0\n",
            "Dalc          0\n",
            "Walc          0\n",
            "health        0\n",
            "absences      0\n",
            "G1            0\n",
            "G2            0\n",
            "G3            0\n",
            "dtype: int64\n"
          ]
        }
      ]
    },
    {
      "cell_type": "code",
      "metadata": {
        "id": "Nxe4j852AOZN",
        "colab": {
          "base_uri": "https://localhost:8080/",
          "height": 274
        },
        "outputId": "f17fa71d-befb-4c58-e2b4-7796eaa4d72b"
      },
      "source": [
        "#Plotting boxplots to find outliers\n",
        "#plot for Dalc variable\n",
        "plt.figure(figsize=(20,5))\n",
        "sns.boxplot(x=df['Dalc'],color='Red')\n",
        "#Risvani"
      ],
      "execution_count": 16,
      "outputs": [
        {
          "output_type": "execute_result",
          "data": {
            "text/plain": [
              "<matplotlib.axes._subplots.AxesSubplot at 0x7fdd71e9a310>"
            ]
          },
          "metadata": {},
          "execution_count": 16
        },
        {
          "output_type": "display_data",
          "data": {
            "image/png": "[encoded data removed]",
            "text/plain": [
              "<Figure size 1440x360 with 1 Axes>"
            ]
          },
          "metadata": {
            "needs_background": "light"
          }
        }
      ]
    },
    {
      "cell_type": "code",
      "metadata": {
        "id": "bumIFCiDP-Qj",
        "colab": {
          "base_uri": "https://localhost:8080/"
        },
        "outputId": "04d24293-f8ce-44fb-9ef6-d4c90bc17190"
      },
      "source": [
        "print(\"First Quartile, Q1=\", df['goout'].quantile(0.25))\n",
        "print(\"Second Quartile/Median, Q2=\", df['goout'].median())\n",
        "print(\"third Quartile, Q3=\", df['goout'].quantile(0.75))"
      ],
      "execution_count": 17,
      "outputs": [
        {
          "output_type": "stream",
          "name": "stdout",
          "text": [
            "First Quartile, Q1= 2.0\n",
            "Second Quartile/Median, Q2= 3.0\n",
            "third Quartile, Q3= 4.0\n"
          ]
        }
      ]
    },
    {
      "cell_type": "code",
      "metadata": {
        "id": "iRGvuWRuQXyX",
        "colab": {
          "base_uri": "https://localhost:8080/"
        },
        "outputId": "d2083e19-34af-4e11-8585-5d3fb09660d6"
      },
      "source": [
        "\n",
        "q1=df.quantile(0.25)\n",
        "q3=df.quantile(0.75)\n",
        "IQR=q3-q1\n",
        "print(\"\\nIQR=\\n,IQR\")\n",
        "df1=df[~((df<(q1-1.5*IQR))|(df>(q3+1.5*IQR))).any(axis=1)]\n",
        "df1.head(5)\n",
        "df1.shape"
      ],
      "execution_count": 18,
      "outputs": [
        {
          "output_type": "stream",
          "name": "stdout",
          "text": [
            "\n",
            "IQR=\n",
            ",IQR\n"
          ]
        },
        {
          "output_type": "execute_result",
          "data": {
            "text/plain": [
              "(463, 18)"
            ]
          },
          "metadata": {},
          "execution_count": 18
        }
      ]
    },
    {
      "cell_type": "markdown",
      "metadata": {
        "id": "eaTb8Wh5QyM6"
      },
      "source": [
        "Alkohol VS Jenis Kelamin"
      ]
    },
    {
      "cell_type": "code",
      "metadata": {
        "id": "1jdAhXJ4QpR4",
        "colab": {
          "base_uri": "https://localhost:8080/",
          "height": 248
        },
        "outputId": "4841943b-bec3-4994-9bc0-8cfa5c491e59"
      },
      "source": [
        "f, ax = plt.subplots(figsize=(4, 4))\n",
        "plt.pie(df['sex'].value_counts().tolist(), \n",
        "        labels=['Female', 'Male'], colors=['#ffd1df', '#a2cffe'], \n",
        "        autopct='%1.1f%%', startangle=90)\n",
        "axis = plt.axis('equal')"
      ],
      "execution_count": 19,
      "outputs": [
        {
          "output_type": "display_data",
          "data": {
            "image/png": "[encoded data removed]",
            "text/plain": [
              "<Figure size 288x288 with 1 Axes>"
            ]
          },
          "metadata": {}
        }
      ]
    },
    {
      "cell_type": "code",
      "metadata": {
        "id": "AI_-XOvFQ_Yq",
        "colab": {
          "base_uri": "https://localhost:8080/",
          "height": 497
        },
        "outputId": "07e44eb5-ed5c-4ee3-93a8-a31dcdbf753f"
      },
      "source": [
        "#kelompok umur yang paling berpengaruh dengan Alkohol\n",
        "fig, ax = plt.subplots(figsize=(5,7))\n",
        "sns.distplot(df['age'],  \n",
        "             hist_kws={\"alpha\": 1, \"color\": \"cyan\"}, \n",
        "             kde=False, bins=4)\n",
        "ax = ax.set(ylabel=\"Students\", xlabel=\"Age\")"
      ],
      "execution_count": 20,
      "outputs": [
        {
          "output_type": "stream",
          "name": "stderr",
          "text": [
            "/usr/local/lib/python3.7/dist-packages/seaborn/distributions.py:2619: FutureWarning: `distplot` is a deprecated function and will be removed in a future version. Please adapt your code to use either `displot` (a figure-level function with similar flexibility) or `histplot` (an axes-level function for histograms).\n",
            "  warnings.warn(msg, FutureWarning)\n"
          ]
        },
        {
          "output_type": "display_data",
          "data": {
            "image/png": "[encoded data removed]",
            "text/plain": [
              "<Figure size 360x504 with 1 Axes>"
            ]
          },
          "metadata": {
            "needs_background": "light"
          }
        }
      ]
    },
    {
      "cell_type": "code",
      "metadata": {
        "id": "xD-DDdXTRJoL",
        "colab": {
          "base_uri": "https://localhost:8080/",
          "height": 351
        },
        "outputId": "e52cbb16-9aa8-479b-ea03-03b4713b06b4"
      },
      "source": [
        "\n",
        "plt.figure(figsize=(5,5))\n",
        "sns.scatterplot(x = df['age'],y = df['Dalc'],hue =df['sex'])"
      ],
      "execution_count": 21,
      "outputs": [
        {
          "output_type": "execute_result",
          "data": {
            "text/plain": [
              "<matplotlib.axes._subplots.AxesSubplot at 0x7fdd643ab310>"
            ]
          },
          "metadata": {},
          "execution_count": 21
        },
        {
          "output_type": "display_data",
          "data": {
            "image/png": "[encoded data removed]",
            "text/plain": [
              "<Figure size 360x360 with 1 Axes>"
            ]
          },
          "metadata": {
            "needs_background": "light"
          }
        }
      ]
    },
    {
      "cell_type": "markdown",
      "metadata": {
        "id": "i7tH836bRa5e"
      },
      "source": [
        "Alkahol mepengerahui nilai Siswa"
      ]
    },
    {
      "cell_type": "code",
      "metadata": {
        "id": "h7jWh5whHjLp"
      },
      "source": [
        "df['Dalc'] = df['Dalc'] + df['Walc']"
      ],
      "execution_count": 22,
      "outputs": []
    },
    {
      "cell_type": "code",
      "metadata": {
        "id": "qtxSPqSnRvrP",
        "colab": {
          "base_uri": "https://localhost:8080/",
          "height": 299
        },
        "outputId": "5f1cd04a-5dbe-4ea3-c628-f01ca0a2e6e5"
      },
      "source": [
        "#Semua siswa kosumsi Alkohol minimal 2 kali dalam seminggu \n",
        "list = []\n",
        "for i in range(11):\n",
        "    list.append(len(df[df.Dalc == i]))\n",
        "ax = sns.barplot(x = [0,1,2,3,4,5,6,7,8,9,10], y = list)\n",
        "plt.ylabel('Number of Students')\n",
        "plt.xlabel('Weekly alcohol consumption')"
      ],
      "execution_count": 23,
      "outputs": [
        {
          "output_type": "execute_result",
          "data": {
            "text/plain": [
              "Text(0.5, 0, 'Weekly alcohol consumption')"
            ]
          },
          "metadata": {},
          "execution_count": 23
        },
        {
          "output_type": "display_data",
          "data": {
            "image/png": "[encoded data removed]",
            "text/plain": [
              "<Figure size 432x288 with 1 Axes>"
            ]
          },
          "metadata": {
            "needs_background": "light"
          }
        }
      ]
    },
    {
      "cell_type": "code",
      "metadata": {
        "id": "GABQ2QvjR4Do",
        "colab": {
          "base_uri": "https://localhost:8080/",
          "height": 295
        },
        "outputId": "c9e0da65-b6a7-4643-9176-5a3efca02ea2"
      },
      "source": [
        "#Alkohol memepengaruhi nilai siswa \n",
        "labels = ['2','3','4','5','6','7','8','9','10']\n",
        "colors = ['lime','blue','orange','cyan','grey','purple','brown','red','darksalmon']\n",
        "explode = [0,0,0,0,0,0,0,0,0]\n",
        "sizes = []\n",
        "for i in range(2,11):\n",
        "    sizes.append(sum(df[df.Dalc == i].G3))\n",
        "total_grade = sum(sizes)\n",
        "average = total_grade/float(len(df))\n",
        "plt.pie(sizes,explode=explode,colors=colors,labels=labels,autopct = '%1.1f%%')\n",
        "plt.axis('equal')\n",
        "plt.title('Total grade : '+str(total_grade))\n",
        "plt.xlabel('Students grade distribution according to weekly alcohol consumption')"
      ],
      "execution_count": 24,
      "outputs": [
        {
          "output_type": "execute_result",
          "data": {
            "text/plain": [
              "Text(0.5, 0, 'Students grade distribution according to weekly alcohol consumption')"
            ]
          },
          "metadata": {},
          "execution_count": 24
        },
        {
          "output_type": "display_data",
          "data": {
            "image/png": "[encoded data removed]",
            "text/plain": [
              "<Figure size 432x288 with 1 Axes>"
            ]
          },
          "metadata": {}
        }
      ]
    }
  ]
}